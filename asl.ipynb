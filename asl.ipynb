{
 "cells": [
  {
   "cell_type": "code",
   "execution_count": null,
   "metadata": {},
   "outputs": [],
   "source": [
    "import matplotlib.pyplot as plt\n",
    "import matplotlib.image as mpimg\n",
    "import cv2"
   ]
  },
  {
   "cell_type": "code",
   "execution_count": null,
   "metadata": {},
   "outputs": [],
   "source": [
    "img = mpimg.imread(\"H:\\Research\\SignLanguage\\asl\\0\\0_1_rotate_1.jpeg\")\n",
    "# img2 = preProcess(img)\n",
    "# img2 = np.expand_dims(img2, axis=0)\n",
    "# print(img2.shape)\n",
    "\n",
    "\n",
    "imgplot = plt.imshow(img)\n",
    "# plt.show()"
   ]
  },
  {
   "cell_type": "code",
   "execution_count": null,
   "metadata": {},
   "outputs": [],
   "source": [
    "import cv2\n",
    "from matplotlib import pyplot as plt\n",
    "import numpy as np\n",
    "import matplotlib.image as mpimg\n",
    "\n",
    "img = mpimg.imread('../input/myData/rolex.jpg')\n",
    "\n",
    "hsv = cv2.cvtColor(img, cv2.COLOR_BGR2HSV)\n",
    "    \n",
    "lower_red = np.array([30,150,50])\n",
    "upper_red = np.array([255,255,180])\n",
    "    \n",
    "mask = cv2.inRange(hsv, lower_red, upper_red)\n",
    "res = cv2.bitwise_and(img, img, mask= mask)\n",
    "\n",
    "# plt.imshow(img)\n",
    "# plt.imshow(hsv)\n",
    "\n",
    "fig=plt.figure(figsize=(15,15))\n",
    "fig.add_subplot(1,3,1)\n",
    "plt.title(\"Original Image\")\n",
    "plt.imshow(img)\n",
    "\n",
    "fig.add_subplot(1,3,2)\n",
    "plt.title(\"Mask\")\n",
    "plt.imshow(mask)\n",
    "\n",
    "fig.add_subplot(1,3,3)\n",
    "plt.title(\"Res\")\n",
    "plt.imshow(res)\n",
    "plt.show()"
   ]
  }
 ],
 "metadata": {
  "kernelspec": {
   "display_name": "Python 3.10.6 64-bit",
   "language": "python",
   "name": "python3"
  },
  "language_info": {
   "name": "python",
   "version": "3.10.6"
  },
  "orig_nbformat": 4,
  "vscode": {
   "interpreter": {
    "hash": "bafa58adc792ea53ed00a1fb730d2e34a25054d59d9865a9c19b21d36973c99e"
   }
  }
 },
 "nbformat": 4,
 "nbformat_minor": 2
}
